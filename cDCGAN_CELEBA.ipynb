{
 "cells": [
  {
   "cell_type": "markdown",
   "id": "8486eb71-b2fc-4249-a9d1-3eb1988bc1d2",
   "metadata": {},
   "source": [
    "### Imports and function definitions"
   ]
  },
  {
   "cell_type": "code",
   "execution_count": 1,
   "id": "84797fad-600c-492c-a402-167a3194654a",
   "metadata": {},
   "outputs": [
    {
     "name": "stdout",
     "output_type": "stream",
     "text": [
      "tensorflow version:  2.4.1\n"
     ]
    }
   ],
   "source": [
    "import tensorflow as tf\n",
    "print('tensorflow version: ', tf.__version__)\n",
    "\n",
    "import glob\n",
    "import imageio\n",
    "import matplotlib.pyplot as plt\n",
    "import numpy as np\n",
    "import os\n",
    "import PIL\n",
    "from tensorflow.keras import layers\n",
    "import time\n",
    "import tensorflow_datasets as tfds\n",
    "import pandas as pd\n",
    "\n",
    "from IPython import display"
   ]
  },
  {
   "cell_type": "code",
   "execution_count": 2,
   "id": "f0b85270-f1fd-43b0-a583-c3a9e0bddcaa",
   "metadata": {},
   "outputs": [
    {
     "name": "stdout",
     "output_type": "stream",
     "text": [
      "Num GPUs Available:  2\n",
      "GPUs:  2\n"
     ]
    }
   ],
   "source": [
    "print(\"Num GPUs Available: \", len(tf.config.list_physical_devices('GPU')))\n",
    "print(\"GPUs: \", len(tf.config.experimental.list_physical_devices('GPU')))"
   ]
  },
  {
   "cell_type": "markdown",
   "id": "b74e775c-67ff-45eb-9874-7ce1de673cc4",
   "metadata": {},
   "source": [
    "### Ways to iterate over the dataset"
   ]
  },
  {
   "cell_type": "raw",
   "id": "3bd65e10-383c-4211-8d54-b8c70803dcdc",
   "metadata": {},
   "source": [
    "# Dictionary\n",
    "\n",
    "ds = ds.take(1)  # Only take a single example\n",
    "\n",
    "for example in ds:  # example is `{'image': tf.Tensor, 'label': tf.Tensor}`\n",
    "    print(list(example.keys()))\n",
    "    image = example[\"image\"]\n",
    "    label = example[\"attributes\"]\n",
    "    print(image.shape, label)"
   ]
  },
  {
   "cell_type": "raw",
   "id": "289fac94-6260-4492-a861-d91ad1eac75d",
   "metadata": {},
   "source": [
    "# Show examples\n",
    "\n",
    "ds, info = tfds.load('celeb_a', split='train', shuffle_files=True, with_info=True)\n",
    "fig = tfds.show_examples(ds, info)"
   ]
  },
  {
   "cell_type": "markdown",
   "id": "70f04941-4bfa-4ee6-8058-66d03e6257a2",
   "metadata": {},
   "source": [
    "### Load and Prepare the Dataset / Preprocessing Functions"
   ]
  },
  {
   "cell_type": "code",
   "execution_count": 3,
   "id": "d8fdcde6-47b8-4f03-ac2b-90d157409563",
   "metadata": {},
   "outputs": [],
   "source": [
    "# From https://www.tensorflow.org/datasets/keras_example\n",
    "\n",
    "(ds_train_raw, ds_test_raw), ds_info = tfds.load(\n",
    "    'celeb_a',\n",
    "    split=['train', 'test'],\n",
    "    shuffle_files=True,\n",
    "    with_info=True,\n",
    ")\n",
    "\n",
    "def preprocess(data):\n",
    "    \"\"\"Normalizes images: `uint8` -> `float32`.\"\"\"\n",
    "    image = data['image']\n",
    "    label = data['attributes']\n",
    "    image = tf.image.resize(image, [28, 28])\n",
    "    image = tf.cast(image, tf.float32) / 255.\n",
    "    return image, label\n",
    "\n",
    "ds_train = ds_train_raw.map(\n",
    "    preprocess, num_parallel_calls=tf.data.experimental.AUTOTUNE)\n",
    "\n",
    "ds_train = ds_train.cache()\n",
    "ds_train = ds_train.shuffle(ds_info.splits['train'].num_examples)\n",
    "ds_train = ds_train.batch(128)\n",
    "ds_train = ds_train.prefetch(tf.data.experimental.AUTOTUNE)"
   ]
  },
  {
   "cell_type": "code",
   "execution_count": 4,
   "id": "6dd49434-8f2a-441e-8852-34c0c883527e",
   "metadata": {},
   "outputs": [
    {
     "data": {
      "text/plain": [
       "<PrefetchDataset shapes: ((None, 28, 28, 3), {5_o_Clock_Shadow: (None,), Arched_Eyebrows: (None,), Attractive: (None,), Bags_Under_Eyes: (None,), Bald: (None,), Bangs: (None,), Big_Lips: (None,), Big_Nose: (None,), Black_Hair: (None,), Blond_Hair: (None,), Blurry: (None,), Brown_Hair: (None,), Bushy_Eyebrows: (None,), Chubby: (None,), Double_Chin: (None,), Eyeglasses: (None,), Goatee: (None,), Gray_Hair: (None,), Heavy_Makeup: (None,), High_Cheekbones: (None,), Male: (None,), Mouth_Slightly_Open: (None,), Mustache: (None,), Narrow_Eyes: (None,), No_Beard: (None,), Oval_Face: (None,), Pale_Skin: (None,), Pointy_Nose: (None,), Receding_Hairline: (None,), Rosy_Cheeks: (None,), Sideburns: (None,), Smiling: (None,), Straight_Hair: (None,), Wavy_Hair: (None,), Wearing_Earrings: (None,), Wearing_Hat: (None,), Wearing_Lipstick: (None,), Wearing_Necklace: (None,), Wearing_Necktie: (None,), Young: (None,)}), types: (tf.float32, {5_o_Clock_Shadow: tf.bool, Arched_Eyebrows: tf.bool, Attractive: tf.bool, Bags_Under_Eyes: tf.bool, Bald: tf.bool, Bangs: tf.bool, Big_Lips: tf.bool, Big_Nose: tf.bool, Black_Hair: tf.bool, Blond_Hair: tf.bool, Blurry: tf.bool, Brown_Hair: tf.bool, Bushy_Eyebrows: tf.bool, Chubby: tf.bool, Double_Chin: tf.bool, Eyeglasses: tf.bool, Goatee: tf.bool, Gray_Hair: tf.bool, Heavy_Makeup: tf.bool, High_Cheekbones: tf.bool, Male: tf.bool, Mouth_Slightly_Open: tf.bool, Mustache: tf.bool, Narrow_Eyes: tf.bool, No_Beard: tf.bool, Oval_Face: tf.bool, Pale_Skin: tf.bool, Pointy_Nose: tf.bool, Receding_Hairline: tf.bool, Rosy_Cheeks: tf.bool, Sideburns: tf.bool, Smiling: tf.bool, Straight_Hair: tf.bool, Wavy_Hair: tf.bool, Wearing_Earrings: tf.bool, Wearing_Hat: tf.bool, Wearing_Lipstick: tf.bool, Wearing_Necklace: tf.bool, Wearing_Necktie: tf.bool, Young: tf.bool})>"
      ]
     },
     "execution_count": 4,
     "metadata": {},
     "output_type": "execute_result"
    }
   ],
   "source": [
    "ds_train"
   ]
  },
  {
   "cell_type": "code",
   "execution_count": 5,
   "id": "6a0b1f7b-390f-442c-bb1d-0aebb54ab5c4",
   "metadata": {},
   "outputs": [
    {
     "name": "stdout",
     "output_type": "stream",
     "text": [
      "(128, 28, 28, 3)\n",
      "dict_keys(['5_o_Clock_Shadow', 'Arched_Eyebrows', 'Attractive', 'Bags_Under_Eyes', 'Bald', 'Bangs', 'Big_Lips', 'Big_Nose', 'Black_Hair', 'Blond_Hair', 'Blurry', 'Brown_Hair', 'Bushy_Eyebrows', 'Chubby', 'Double_Chin', 'Eyeglasses', 'Goatee', 'Gray_Hair', 'Heavy_Makeup', 'High_Cheekbones', 'Male', 'Mouth_Slightly_Open', 'Mustache', 'Narrow_Eyes', 'No_Beard', 'Oval_Face', 'Pale_Skin', 'Pointy_Nose', 'Receding_Hairline', 'Rosy_Cheeks', 'Sideburns', 'Smiling', 'Straight_Hair', 'Wavy_Hair', 'Wearing_Earrings', 'Wearing_Hat', 'Wearing_Lipstick', 'Wearing_Necklace', 'Wearing_Necktie', 'Young'])\n"
     ]
    }
   ],
   "source": [
    "for images, attributes in ds_train:\n",
    "    break\n",
    "print(images.shape)\n",
    "print(attributes.keys())"
   ]
  },
  {
   "cell_type": "code",
   "execution_count": 6,
   "id": "a48db690-6b15-4a92-a404-bc7f6abc97c6",
   "metadata": {},
   "outputs": [
    {
     "data": {
      "text/plain": [
       "TensorShape([28, 28, 3])"
      ]
     },
     "execution_count": 6,
     "metadata": {},
     "output_type": "execute_result"
    }
   ],
   "source": [
    "images[0].shape"
   ]
  },
  {
   "cell_type": "code",
   "execution_count": 7,
   "id": "10da6ec8-657a-4eaa-9375-133a11c17d43",
   "metadata": {},
   "outputs": [
    {
     "data": {
      "text/plain": [
       "1.0"
      ]
     },
     "execution_count": 7,
     "metadata": {},
     "output_type": "execute_result"
    }
   ],
   "source": [
    "images.numpy().max()"
   ]
  },
  {
   "cell_type": "markdown",
   "id": "f48fa7f2-d400-4205-a90f-8a4df7447bdd",
   "metadata": {},
   "source": [
    "## Create the models"
   ]
  },
  {
   "cell_type": "markdown",
   "id": "be0ab8cd-ac07-42bb-8aa6-a43131505c28",
   "metadata": {},
   "source": [
    "### Generator\n",
    "\n",
    "The generator uses tf.keras.layers.Conv2DTranspose (upsampling) layers to produce an image from a seed (random noise). Start with a Dense layer that takes this seed as input, then upsample several times until you reach the desired image size of 28x28x1. Notice the tf.keras.layers.LeakyReLU activation for each layer, except the output layer which uses tanh."
   ]
  },
  {
   "cell_type": "code",
   "execution_count": 8,
   "id": "c094dd01-6926-4690-95bf-0d1947c44ac0",
   "metadata": {},
   "outputs": [],
   "source": [
    "# Add attribute vectors\n",
    "#attributes.items()"
   ]
  },
  {
   "cell_type": "code",
   "execution_count": 9,
   "id": "86fad644-910e-40c3-a27b-3118bbf4229d",
   "metadata": {},
   "outputs": [
    {
     "name": "stdout",
     "output_type": "stream",
     "text": [
      "KerasTensor(type_spec=TensorSpec(shape=(None, 1, 100), dtype=tf.float32, name=None), name='embedding/embedding_lookup/Identity_1:0', description=\"created by layer 'embedding'\")\n",
      "KerasTensor(type_spec=TensorSpec(shape=(None, 1, 49), dtype=tf.float32, name=None), name='dense/BiasAdd:0', description=\"created by layer 'dense'\")\n",
      "KerasTensor(type_spec=TensorSpec(shape=(None, 7, 7, 1), dtype=tf.float32, name=None), name='reshape/Reshape:0', description=\"created by layer 'reshape'\")\n",
      "KerasTensor(type_spec=TensorSpec(shape=(None, 1, 100), dtype=tf.float32, name=None), name='multiply/mul:0', description=\"created by layer 'multiply'\")\n",
      "(None, 100)\n",
      "(None, 1, 100)\n"
     ]
    }
   ],
   "source": [
    "label = layers.Input(shape=(1,))\n",
    "#label_embedding = layers.Flatten()(layers.Embedding(40, 100)(label))\n",
    "label_embedding = layers.Embedding(40, 100)(label)\n",
    "print(label_embedding)\n",
    "n_nodes = 7 * 7\n",
    "li = layers.Dense(n_nodes)(label_embedding)\n",
    "print(li)\n",
    "li = layers.Reshape((7,7,1))(li)\n",
    "print(li)\n",
    "noise = layers.Input(shape=(100,))\n",
    "model_input = layers.multiply([noise, label_embedding])\n",
    "print(model_input)\n",
    "print(noise.shape)\n",
    "print(label_embedding.shape)"
   ]
  },
  {
   "cell_type": "code",
   "execution_count": 10,
   "id": "a6bf399f-2b44-4f53-bac1-50aec5d5e657",
   "metadata": {},
   "outputs": [],
   "source": [
    "#attributes.values()"
   ]
  },
  {
   "cell_type": "code",
   "execution_count": 11,
   "id": "286b805e-96f4-4225-baa7-0d9eb9810c28",
   "metadata": {},
   "outputs": [
    {
     "name": "stdout",
     "output_type": "stream",
     "text": [
      "p1:  (40, 100)\n",
      "(128, 100)\n"
     ]
    }
   ],
   "source": [
    "# Create random values to be multiple with random attributes to form noise for generator input\n",
    "noise_dim = 100\n",
    "attribute_embeddings = tf.Variable(initial_value=tf.random.normal([40, noise_dim]), trainable=True) # Do this once only, but add to optimizers\n",
    "print('p1: ',attribute_embeddings.shape)\n",
    "\n",
    "def initiate_seed_weights(attributes, attribute_embeddings):\n",
    "    # Convert to tensor\n",
    "    #print(attributes.values().shape)\n",
    "    #print('p2: ',attribute_embeddings.shape)\n",
    "    batch_attributes_as_bool_tensor = tf.transpose(tf.stack(list(attributes.values())))\n",
    "    #print(batch_attributes_as_bool_tensor.shape)\n",
    "    # Convert from boolean to float\n",
    "    batch_attributes_as_float_tensor = tf.where(batch_attributes_as_bool_tensor, 1.,-1.)\n",
    "    #print(batch_attributes_as_float_tensor.shape)\n",
    "    # Create projection of attributes into embedding space\n",
    "    attribute_input = tf.matmul(batch_attributes_as_float_tensor, attribute_embeddings) \n",
    "    return attribute_input\n",
    "\n",
    "attributes_random = np.random.choice(a=[False, True], size=(128,40)) # this doesn't seem to be used anywhere\n",
    "attributes_noise = initiate_seed_weights(attributes, attribute_embeddings)\n",
    "print(attributes_noise.shape)"
   ]
  },
  {
   "cell_type": "raw",
   "id": "fc864d6c-5825-431d-b8b8-5d0f9efbed55",
   "metadata": {},
   "source": [
    "# Old Code\n",
    "noise_dim = 100\n",
    "attribute_embeddings = tf.Variable(initial_value=tf.random.normal([40, noise_dim]), trainable=True)\n",
    "print(attribute_embeddings.shape)\n",
    "\n",
    "attributes_random = np.random.choice(a=[False, True], size=(128,40))\n",
    "# convert from bool\n",
    "batch_attributes_as_bool_tensor = tf.transpose(tf.stack(list(attributes.values())))\n",
    "attributes_random = tf.where(batch_attributes_as_bool_tensor, 1.,-1.)\n",
    "print(attributes_random.shape)\n",
    "\n",
    "# Create noise vector\n",
    "attributes_noise = tf.matmul(attributes_random, attribute_embeddings)\n",
    "print(attributes_noise.shape)"
   ]
  },
  {
   "cell_type": "raw",
   "id": "af496087-0c1a-4cec-bc88-2d1608f1faa7",
   "metadata": {},
   "source": [
    "batch_attributes_as_bool_tensor = tf.transpose(tf.stack(list(attributes.values())))\n",
    "print(batch_attributes_as_bool_tensor.shape)\n",
    "batch_attributes_as_float_tensor = tf.where(batch_attributes_as_bool_tensor, 1.,-1.)\n",
    "print(batch_attributes_as_float_tensor.shape)\n",
    "print(tf.matmul(batch_attributes_as_float_tensor, w))"
   ]
  },
  {
   "cell_type": "code",
   "execution_count": 12,
   "id": "c81effbe-eff2-479e-bbc5-a4db0c90618c",
   "metadata": {},
   "outputs": [],
   "source": [
    "# The generator\n",
    "def make_generator_model():\n",
    "    \n",
    "    model = tf.keras.Sequential(name='Generator')\n",
    "    model.add(layers.Dense(7*7*256, use_bias=False, input_shape=(100,)))\n",
    "    model.add(layers.BatchNormalization())\n",
    "    model.add(layers.LeakyReLU())\n",
    "\n",
    "    model.add(layers.Reshape((7, 7, 256)))\n",
    "    assert model.output_shape == (None, 7, 7, 256)  # Note: None is the batch size\n",
    "\n",
    "    model.add(layers.Conv2DTranspose(128, (5, 5), strides=(1, 1), padding='same', use_bias=False))\n",
    "    assert model.output_shape == (None, 7, 7, 128)\n",
    "    model.add(layers.BatchNormalization())\n",
    "    model.add(layers.LeakyReLU())\n",
    "\n",
    "    model.add(layers.Conv2DTranspose(64, (4, 4), strides=(2, 2), padding='same', use_bias=False))\n",
    "    assert model.output_shape == (None, 14, 14, 64)\n",
    "    model.add(layers.BatchNormalization())\n",
    "    model.add(layers.LeakyReLU())\n",
    "\n",
    "    model.add(layers.Conv2DTranspose(1, (4, 4), strides=(2, 2), padding='same', use_bias=False))\n",
    "    model.add(layers.LeakyReLU())\n",
    "    \n",
    "    # Output layer\n",
    "    model.add(layers.Conv2D(3, (3,3), activation='sigmoid', padding = 'same', use_bias=False))\n",
    "    assert model.output_shape == (None, 28, 28, 3)\n",
    "\n",
    "    return model"
   ]
  },
  {
   "cell_type": "code",
   "execution_count": 13,
   "id": "c9a17a57-5c64-48dc-b3ea-2a44f3256d6c",
   "metadata": {},
   "outputs": [
    {
     "name": "stdout",
     "output_type": "stream",
     "text": [
      "<dtype: 'float32'>\n",
      "(1, 28, 28, 3)\n"
     ]
    },
    {
     "data": {
      "image/png": "[encoded data removed]",
      "text/plain": [
       "<Figure size 432x288 with 1 Axes>"
      ]
     },
     "metadata": {
      "needs_background": "light"
     },
     "output_type": "display_data"
    }
   ],
   "source": [
    "# Create an image using the untrained generator\n",
    "generator = make_generator_model()\n",
    "\n",
    "noise = tf.random.normal([1, 100])\n",
    "generated_image = generator(noise, training=False)\n",
    "print(generated_image.dtype)\n",
    "print(generated_image.shape)\n",
    "\n",
    "#plt.imshow(generated_image[0, :, :, 0], cmap='gray')\n",
    "plt.imshow(generated_image[0])\n",
    "\n",
    "None"
   ]
  },
  {
   "cell_type": "code",
   "execution_count": 14,
   "id": "1e9d8dff-d629-4a81-8f12-9119852d4272",
   "metadata": {},
   "outputs": [
    {
     "name": "stdout",
     "output_type": "stream",
     "text": [
      "<dtype: 'float32'>\n",
      "(128, 28, 28, 3)\n"
     ]
    },
    {
     "data": {
      "image/png": "[encoded data removed]",
      "text/plain": [
       "<Figure size 432x288 with 1 Axes>"
      ]
     },
     "metadata": {
      "needs_background": "light"
     },
     "output_type": "display_data"
    },
    {
     "data": {
      "image/png": "[encoded data removed]",
      "text/plain": [
       "<Figure size 432x288 with 1 Axes>"
      ]
     },
     "metadata": {
      "needs_background": "light"
     },
     "output_type": "display_data"
    }
   ],
   "source": [
    "generator = make_generator_model()\n",
    "\n",
    "generated_image = generator(attributes_noise, training=False)\n",
    "print(generated_image.dtype)\n",
    "print(generated_image.shape)\n",
    "\n",
    "plt.imshow(generated_image[0])\n",
    "plt.show()\n",
    "\n",
    "plt.imshow(generated_image[1])\n",
    "plt.show()\n",
    "\n",
    "None"
   ]
  },
  {
   "cell_type": "markdown",
   "id": "64a7e409-cdd3-436b-b6a6-d7a8dbf41783",
   "metadata": {},
   "source": [
    "### Discriminator\n",
    "\n",
    "The discriminator is a CNN-based image classifier."
   ]
  },
  {
   "cell_type": "code",
   "execution_count": null,
   "id": "5088124b-cd44-4a5a-b39d-5db022e36515",
   "metadata": {},
   "outputs": [],
   "source": []
  },
  {
   "cell_type": "code",
   "execution_count": 15,
   "id": "59c79c7e-d9f1-4294-877a-456cd79486ef",
   "metadata": {},
   "outputs": [
    {
     "data": {
      "text/plain": [
       "TensorShape([28, 28, 3])"
      ]
     },
     "execution_count": 15,
     "metadata": {},
     "output_type": "execute_result"
    }
   ],
   "source": [
    "noise = tf.random.normal([28, 28, 3])\n",
    "noise.shape"
   ]
  },
  {
   "cell_type": "code",
   "execution_count": 16,
   "id": "d73e3f30-8cf1-4c3c-8fca-cf5fe1a03540",
   "metadata": {},
   "outputs": [],
   "source": [
    "def make_discriminator_model():\n",
    "    \n",
    "    # label input\n",
    "    input_label = layers.Input(shape=(100))\n",
    "    input_image = layers.Input(shape=(28,28,3))\n",
    "    #noise = tf.random.normal([28, 28, 3])\n",
    "\n",
    "    #multi_image_model = tf.keras.Sequential(name='Discriminator_multi_image')\n",
    "    #multi_image_model.add(layers.Conv3D(64, (5, 5, 5), padding='same'))\n",
    "    \n",
    "    \n",
    "    conv_model = tf.keras.Sequential(name='Discriminator_conv_model')\n",
    "    # downsample\n",
    "    conv_model.add(layers.Conv2D(64, (5, 5), strides=(2, 2), padding='same'))\n",
    "    conv_model.add(layers.LeakyReLU())\n",
    "    conv_model.add(layers.Dropout(0.3))\n",
    "    \n",
    "    #downsample\n",
    "    conv_model.add(layers.Conv2D(128, (5, 5), strides=(2, 2), padding='same'))\n",
    "    conv_model.add(layers.BatchNormalization())\n",
    "    conv_model.add(layers.LeakyReLU())\n",
    "    conv_model.add(layers.Dropout(0.3))\n",
    "    \n",
    "    # classifier\n",
    "    conv_model.add(layers.Flatten())\n",
    "    \n",
    "    # Concatentate the new one here\n",
    "    # The feed the concatenated model into the dense layer\n",
    "    \n",
    "    #multi_image_feature = multi_image_model(tf.expand_dims(input_image, axis=0))\n",
    "    #multi_image_feature = tf.squeeze(multi_image_feature, axis=0)\n",
    "    \n",
    "    img_feature_vec = conv_model(input_image) #input_image+noise*10)\n",
    "    \n",
    "    # concat label as a channel\n",
    "    merge = layers.Concatenate()([img_feature_vec, input_label])\n",
    "    \n",
    "    # multi-layer perceptrons\n",
    "    mlp = tf.keras.Sequential(name='Discriminator_mlp')\n",
    "    mlp.add(layers.Dense(128))\n",
    "    mlp.add(layers.LeakyReLU())\n",
    "    mlp.add(layers.Dropout(0.3))\n",
    "    mlp.add(layers.Dense(1))\n",
    "    \n",
    "    output = mlp(merge)\n",
    "    \n",
    "    # Need to create new model here with correct shapes which need to be defined as inputs\n",
    "    model = tf.keras.Model([input_image, input_label], output, name='Discriminator')\n",
    "\n",
    "    return model"
   ]
  },
  {
   "cell_type": "code",
   "execution_count": 17,
   "id": "89f74ea2-8b35-49f2-ae72-2fd1f4002425",
   "metadata": {},
   "outputs": [],
   "source": [
    "# Classify the generated images as real or fake using the discriminator.\n",
    "# Model is trained to output positive values for real images and negative values for fake images\n",
    "discriminator = make_discriminator_model()\n",
    "\n",
    "#decision = discriminator((generated_image, attributes_noise))\n",
    "#print(decision.shape)\n",
    "#print(decision[:10])"
   ]
  },
  {
   "cell_type": "markdown",
   "id": "50c572e1-6fe8-4b65-9ed0-caddc810f2fb",
   "metadata": {},
   "source": [
    "## Define the loss and optimisers"
   ]
  },
  {
   "cell_type": "code",
   "execution_count": 18,
   "id": "777205f3-1f15-48fe-a983-d902fe085cff",
   "metadata": {},
   "outputs": [],
   "source": [
    "# This method returns a helper function to compute cross entropy loss\n",
    "cross_entropy = tf.keras.losses.BinaryCrossentropy(from_logits=True)"
   ]
  },
  {
   "cell_type": "markdown",
   "id": "17aaea0a-313c-4cdb-be79-6160dfd8723b",
   "metadata": {},
   "source": [
    "### Discriminator loss\n",
    "\n",
    "Quantifies how well the discriminator is able to distinguish real images from fakes.  \n",
    "\n",
    "It compares the discriminator's predictions on real images to an array of 1s, and the discriminator's predictions on fake (generated) images to an array of 0s"
   ]
  },
  {
   "cell_type": "code",
   "execution_count": 19,
   "id": "692afa5b-8b3e-4b47-91ef-ed50b6a408bd",
   "metadata": {},
   "outputs": [],
   "source": [
    "def discriminator_loss(real_output, fake_output):\n",
    "    real_loss = cross_entropy(tf.ones_like(real_output), real_output)\n",
    "    fake_loss = cross_entropy(tf.zeros_like(fake_output), fake_output)\n",
    "    total_loss = real_loss + fake_loss\n",
    "    return total_loss"
   ]
  },
  {
   "cell_type": "markdown",
   "id": "980b1be0-18b8-4cb2-bf2d-0049a4e996ed",
   "metadata": {},
   "source": [
    "### Generator loss\n",
    "\n",
    "Quantifies how well it was able to trick the discriminator.  \n",
    "\n",
    "If the generator is performng well, the discriminator will classify the fake images as real (or 1). This function compares the discriminators decisions on the generated images to an array of 1s"
   ]
  },
  {
   "cell_type": "code",
   "execution_count": 20,
   "id": "0b9ac231-f711-436d-95fe-2ada50c54162",
   "metadata": {},
   "outputs": [],
   "source": [
    "def generator_loss(fake_output):\n",
    "    return cross_entropy(tf.ones_like(fake_output), fake_output)"
   ]
  },
  {
   "cell_type": "markdown",
   "id": "a8cf04dc-1cc1-4eee-9fe6-7ebe497ddbd3",
   "metadata": {},
   "source": [
    "### Optimisers\n",
    "\n",
    "Two different optimisers required since the two networks are trained separately"
   ]
  },
  {
   "cell_type": "code",
   "execution_count": 21,
   "id": "d05ee072-92c9-4553-b0f8-80014a9d4068",
   "metadata": {},
   "outputs": [],
   "source": [
    "noise_dim = 100\n",
    "generator_optimizer = tf.keras.optimizers.Adam(1e-3)\n",
    "discriminator_optimizer = tf.keras.optimizers.Adam(1e-5)\n",
    "#generator_optimizer = tf.keras.optimizers.Adam(learning_rate=2e-4, beta_1=0.5)\n",
    "#discriminator_optimizer = tf.keras.optimizers.Adam(learning_rate=2e-4, beta_1=0.5)\n",
    "attribute_embeddings = tf.Variable(initial_value=tf.random.normal([40, noise_dim]), trainable=True) # Do this once only, but add to optimizers"
   ]
  },
  {
   "cell_type": "markdown",
   "id": "4ed13888-a451-4fd2-8dba-3e9e05824c48",
   "metadata": {},
   "source": [
    "### Save checkpoints"
   ]
  },
  {
   "cell_type": "code",
   "execution_count": 22,
   "id": "8cfaf80e-9245-4bd6-8b0e-ca3776b5260d",
   "metadata": {},
   "outputs": [],
   "source": [
    "checkpoint_dir = './training_checkpoints'\n",
    "checkpoint_prefix = os.path.join(checkpoint_dir, \"ckpt\")\n",
    "checkpoint = tf.train.Checkpoint(generator_optimizer=generator_optimizer,\n",
    "                                 discriminator_optimizer=discriminator_optimizer,\n",
    "                                 generator=generator,\n",
    "                                 discriminator=discriminator,\n",
    "                                 attribute_embeddings=attribute_embeddings)"
   ]
  },
  {
   "cell_type": "markdown",
   "id": "d269a3bc-6b8a-4fa9-b11a-aeda1edc4813",
   "metadata": {},
   "source": [
    "## Training Loop\n",
    "\n",
    "The training loop begins with generator receiving a random seed as input. That seed is used to produce an image. The discriminator is then used to classify real images (drawn from the training set) and fakes images (produced by the generator). The loss is calculated for each of these models, and the gradients are used to update the generator and discriminator."
   ]
  },
  {
   "cell_type": "code",
   "execution_count": 23,
   "id": "e5239f21-d8e0-4575-9b3d-d11679dc987a",
   "metadata": {},
   "outputs": [],
   "source": [
    "def initiate_seed_weights(attributes, attribute_embeddings):\n",
    "    # Convert to tensor\n",
    "    #print(attributes.values().shape)\n",
    "    #print('p2: ',attribute_embeddings.shape)\n",
    "    batch_attributes_as_bool_tensor = tf.transpose(tf.stack(list(attributes.values())))\n",
    "    #print(batch_attributes_as_bool_tensor.shape)\n",
    "    # Convert from boolean to float\n",
    "    batch_attributes_as_float_tensor = tf.where(batch_attributes_as_bool_tensor, 1.,-1.)\n",
    "    #print(batch_attributes_as_float_tensor.shape)\n",
    "    # Create projection of attributes into embedding space\n",
    "    attribute_input = tf.matmul(batch_attributes_as_float_tensor, attribute_embeddings) \n",
    "    return attribute_input\n",
    "\n",
    "attributes_random = np.random.choice(a=[False, True], size=(128,40)) # this doesn't seem to be used anywhere\n",
    "attributes_noise = initiate_seed_weights(attributes, attribute_embeddings)"
   ]
  },
  {
   "cell_type": "code",
   "execution_count": 24,
   "id": "ad6d895d-84f6-4ff1-aac8-0a739e82c318",
   "metadata": {},
   "outputs": [],
   "source": [
    "@tf.function\n",
    "def train_step(images, attributes):\n",
    "    #noise = tf.random.normal([BATCH_SIZE, noise_dim])\n",
    "\n",
    "    with tf.GradientTape() as gen_tape, tf.GradientTape() as disc_tape:\n",
    "        \n",
    "        attribute_input = initiate_seed_weights(attributes, attribute_embeddings)\n",
    "\n",
    "        generated_images = generator(attribute_input, training=True)\n",
    "        real_output = discriminator((images, attribute_input), training=True)\n",
    "        fake_output = discriminator((generated_images, attribute_input), training=True)\n",
    "\n",
    "        gen_loss = generator_loss(fake_output)\n",
    "        disc_loss = discriminator_loss(real_output, fake_output)\n",
    "\n",
    "    gradients_of_generator = gen_tape.gradient(gen_loss, generator.trainable_variables)# + [attribute_embeddings])\n",
    "    gradients_of_discriminator = disc_tape.gradient(disc_loss, discriminator.trainable_variables + [attribute_embeddings])\n",
    "\n",
    "    generator_optimizer.apply_gradients(zip(gradients_of_generator, generator.trainable_variables))# + [attribute_embeddings]))\n",
    "    discriminator_optimizer.apply_gradients(zip(gradients_of_discriminator, discriminator.trainable_variables + [attribute_embeddings]))\n",
    "    \n",
    "    return attribute_input\n",
    "    \n",
    "def train(dataset, epochs, num_examples_to_generate):\n",
    "    for epoch in range(epochs):\n",
    "        start = time.time()\n",
    "\n",
    "        for image_batch, attribute_batch in dataset:\n",
    "            attribute_input = train_step(image_batch, attribute_batch)\n",
    "\n",
    "        # Produce images for the GIF as you go\n",
    "        display.clear_output(wait=True)\n",
    "        generate_and_save_images(generator, epoch + 1, attribute_input[:num_examples_to_generate])\n",
    "\n",
    "        # Save the model every 50 epochs\n",
    "        if (epoch + 1) % 50 == 0:\n",
    "            checkpoint.save(file_prefix = checkpoint_prefix)\n",
    "\n",
    "        print ('Time for epoch {} is {} sec'.format(epoch + 1, time.time()-start))\n",
    "    \n",
    "# Generate and save images\n",
    "def generate_and_save_images(model, epoch, test_input):\n",
    "    # Notice `training` is set to False. This is so all layers run in inference mode (batchnorm).\n",
    "    predictions = model(test_input, training=False)\n",
    "\n",
    "    fig = plt.figure(figsize=(4, 4))\n",
    "\n",
    "    for i in range(predictions.shape[0]):\n",
    "        plt.subplot(4, 4, i+1)\n",
    "        #plt.imshow(predictions[i, :, :, 0] * 127.5 + 127.5, cmap='gray')\n",
    "        plt.imshow(predictions[i])\n",
    "        plt.axis('off')\n",
    "\n",
    "    image_folder = 'generated_images/'\n",
    "    image_filepath = image_folder + 'image_at_epoch_{:04d}.png'\n",
    "    plt.savefig(image_filepath.format(epoch))\n",
    "    plt.show()\n"
   ]
  },
  {
   "cell_type": "markdown",
   "id": "e1fed0f9-335b-449a-b0a7-bce76e985722",
   "metadata": {},
   "source": [
    "## Train the model\n",
    "\n",
    "Generator and discriminator are trained simultaneously.  \n",
    "\n",
    "It is important that the generator and discriminator do not overpower each other (i.e. they train at a similar rate)\n",
    "\n",
    "At the beginning of the training, the generated images look like random noise. As training progresses, the generated digits will look increasingly real. After about 50 epochs, they resemble MNIST digits. This may take about one minute / epoch with the default settings on Colab."
   ]
  },
  {
   "cell_type": "code",
   "execution_count": null,
   "id": "819499f0-4d86-4b01-aeae-94b2a78456fd",
   "metadata": {},
   "outputs": [
    {
     "data": {
      "image/png": "[encoded data removed]",
      "text/plain": [
       "<Figure size 288x288 with 16 Axes>"
      ]
     },
     "metadata": {
      "needs_background": "light"
     },
     "output_type": "display_data"
    },
    {
     "name": "stdout",
     "output_type": "stream",
     "text": [
      "Time for epoch 5 is 40.25110936164856 sec\n"
     ]
    }
   ],
   "source": [
    "EPOCHS = 200\n",
    "noise_dim = 100\n",
    "num_examples_to_generate = 16\n",
    "\n",
    "train(ds_train, EPOCHS, num_examples_to_generate)"
   ]
  },
  {
   "cell_type": "code",
   "execution_count": null,
   "id": "f3d8254a-327b-430a-b295-7c45ed401539",
   "metadata": {},
   "outputs": [],
   "source": []
  },
  {
   "cell_type": "code",
   "execution_count": null,
   "id": "743573b2-faad-4292-84af-a03d49aa6f67",
   "metadata": {},
   "outputs": [],
   "source": [
    "checkpoint.restore(tf.train.latest_checkpoint(checkpoint_dir))"
   ]
  },
  {
   "cell_type": "code",
   "execution_count": null,
   "id": "0440d76f-7ae1-4249-af4a-1e4cdc58dd2c",
   "metadata": {},
   "outputs": [],
   "source": [
    "test_array = np.full((40,),-1)\n",
    "test_array[9] = 1 # blonde\n",
    "test_array.shape"
   ]
  },
  {
   "cell_type": "code",
   "execution_count": null,
   "id": "56b4bb51-49cd-4d55-8e09-b5e2536484a9",
   "metadata": {},
   "outputs": [],
   "source": [
    "# Try generating an image based on specific attributes\n",
    "attributes_noise = initiate_seed_weights(attributes, attribute_embeddings)\n",
    "\n",
    "generated_image = generator(attributes_noise, training=False)\n",
    "print(generated_image.dtype)\n",
    "print(generated_image.shape)\n",
    "\n",
    "plt.imshow(generated_image[1])\n",
    "\n",
    "None"
   ]
  },
  {
   "cell_type": "code",
   "execution_count": null,
   "id": "bbd48a27-228b-4af1-9e95-049243ad4961",
   "metadata": {},
   "outputs": [],
   "source": [
    "# Display a single image using the epoch number\n",
    "def display_image(epoch_no):\n",
    "    return PIL.Image.open('./generated_images/image_at_epoch_{:04d}.png'.format(epoch_no))\n",
    "\n",
    "display_image(50)"
   ]
  },
  {
   "cell_type": "code",
   "execution_count": null,
   "id": "f4b6f73f-2f37-4640-bd83-7be7097a9da0",
   "metadata": {},
   "outputs": [],
   "source": [
    "attributes_random = np.random.choice(a=[False, True], size=(128,40))\n",
    "attributes_random[1]"
   ]
  },
  {
   "cell_type": "code",
   "execution_count": null,
   "id": "01cc4956-d857-4926-9ec2-303f6542a7c7",
   "metadata": {},
   "outputs": [],
   "source": [
    "generator.summary()"
   ]
  },
  {
   "cell_type": "code",
   "execution_count": null,
   "id": "188a3e13-855e-41f0-b7e8-1bfd149b7369",
   "metadata": {},
   "outputs": [],
   "source": [
    "weights = generator_optimizer.get_weights()\n",
    "print(len(weights))\n",
    "weights[1].shape"
   ]
  },
  {
   "cell_type": "code",
   "execution_count": null,
   "id": "daa4d3b4-fe28-46ab-adef-ba2a24173c49",
   "metadata": {},
   "outputs": [],
   "source": []
  },
  {
   "cell_type": "code",
   "execution_count": null,
   "id": "e88071b1-f0b5-4303-abc7-2b0eac828d44",
   "metadata": {},
   "outputs": [],
   "source": []
  }
 ],
 "metadata": {
  "kernelspec": {
   "display_name": "Python 3",
   "language": "python",
   "name": "python3"
  },
  "language_info": {
   "codemirror_mode": {
    "name": "ipython",
    "version": 3
   },
   "file_extension": ".py",
   "mimetype": "text/x-python",
   "name": "python",
   "nbconvert_exporter": "python",
   "pygments_lexer": "ipython3",
   "version": "3.8.0"
  }
 },
 "nbformat": 4,
 "nbformat_minor": 5
}
